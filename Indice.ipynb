{
  "nbformat": 4,
  "nbformat_minor": 0,
  "metadata": {
    "colab": {
      "name": "Indice.ipynb",
      "provenance": [],
      "collapsed_sections": [],
      "authorship_tag": "ABX9TyO0LXU33Dr53L05wSDYRgvs",
      "include_colab_link": true
    },
    "kernelspec": {
      "name": "python3",
      "display_name": "Python 3"
    }
  },
  "cells": [
    {
      "cell_type": "markdown",
      "metadata": {
        "id": "view-in-github",
        "colab_type": "text"
      },
      "source": [
        "<a href=\"https://colab.research.google.com/github/JDM-ULL-93/Practica_TID/blob/master/Indice.ipynb\" target=\"_parent\"><img src=\"https://colab.research.google.com/assets/colab-badge.svg\" alt=\"Open In Colab\"/></a>"
      ]
    },
    {
      "cell_type": "markdown",
      "metadata": {
        "id": "unXWrX8i85-3",
        "colab_type": "text"
      },
      "source": [
        "# Indice\n",
        "\n",
        "## 1 - [Preprocesamiento de datos](https://colab.research.google.com/github/JDM-ULL-93/Practica_TID/blob/master/PreprocesamientoDatos.ipynb)\n",
        "\n",
        "## 2 -  [Árbol de Clasificación](https://colab.research.google.com/github/JDM-ULL-93/Practica_TID/blob/master/PreprocesamientoDatos.ipynb)\n",
        "\n",
        "## 3 -  [Clasificador Bayesiano](https://colab.research.google.com/github/JDM-ULL-93/Practica_TID/blob/master/PreprocesamientoDatos.ipynb)\n",
        "\n",
        "## 4 -  [Perceptrón Simple y Multicapa](https://colab.research.google.com/github/JDM-ULL-93/Practica_TID/blob/master/PreprocesamientoDatos.ipynb)\n",
        "\n",
        "## 5 -  [Clustering basado en prototipos](https://colab.research.google.com/github/JDM-ULL-93/Practica_TID/blob/master/PreprocesamientoDatos.ipynb)\n",
        "\n",
        "## 6 - [Clustering Jerarquico](https://colab.research.google.com/github/JDM-ULL-93/Practica_TID/blob/master/PreprocesamientoDatos.ipynb)\n",
        "\n",
        "## 7 - [Mapa autoorganizable(SOM)](https://colab.research.google.com/github/JDM-ULL-93/Practica_TID/blob/master/PreprocesamientoDatos.ipynb)\n",
        "\n"
      ]
    }
  ]
}