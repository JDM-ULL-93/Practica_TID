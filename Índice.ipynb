{
  "nbformat": 4,
  "nbformat_minor": 0,
  "metadata": {
    "colab": {
      "name": "Índice.ipynb",
      "provenance": [],
      "collapsed_sections": [],
      "include_colab_link": true
    },
    "kernelspec": {
      "name": "python3",
      "display_name": "Python 3"
    }
  },
  "cells": [
    {
      "cell_type": "markdown",
      "metadata": {
        "id": "view-in-github",
        "colab_type": "text"
      },
      "source": [
        "<a href=\"https://colab.research.google.com/github/JDM-ULL-93/Practica_TID/blob/master/%C3%8Dndice.ipynb\" target=\"_parent\"><img src=\"https://colab.research.google.com/assets/colab-badge.svg\" alt=\"Open In Colab\"/></a>"
      ]
    },
    {
      "cell_type": "markdown",
      "metadata": {
        "id": "unXWrX8i85-3",
        "colab_type": "text"
      },
      "source": [
        "# MODELO CLASIFICADOR DE RECONOCIMIENTO DE GESTOS​\n",
        "## Grupo 11\n",
        "* Javier Duque Melguizo (alu0101160337)​\n",
        "* Daniel Barroso Rocío (alu0101035826)​\n",
        "\n",
        "# Índice\n",
        "\n",
        "### 1 - [Preprocesamiento de datos](https://colab.research.google.com/github/JDM-ULL-93/Practica_TID/blob/master/PreprocesamientoDatos.ipynb)\n",
        "\n",
        "***\n",
        "## Clasificadores\n",
        "### 2 -  [Árbol de Clasificación](https://colab.research.google.com/github/JDM-ULL-93/Practica_TID/blob/master/%C3%81rbol_de_Clasificaci%C3%B3n.ipynb)\n",
        "\n",
        "### 3 -  [Clasificador basado en reglas](https://colab.research.google.com/github/JDM-ULL-93/Practica_TID/blob/master/Perceptron_Simple_y_Multicapa.ipynb)\n",
        "\n",
        "### 4 -  [Clasificador Bayesiano](https://colab.research.google.com/github/JDM-ULL-93/Practica_TID/blob/master/Clasificadores_bayesianos.ipynb)\n",
        "\n",
        "### 5 -  [Perceptrón Simple y Multicapa](https://colab.research.google.com/github/JDM-ULL-93/Practica_TID/blob/master/Perceptron_Simple_y_Multicapa.ipynb)\n",
        "\n",
        "\n",
        "***\n",
        "\n",
        "## Clustering\n",
        "### 6 -  [Clustering basado en prototipos](https://colab.research.google.com/github/JDM-ULL-93/Practica_TID/blob/master/Clustering_Basado_en_prototipos.ipynb)\n",
        "\n",
        "### 7 - [Clustering Jerárquico](https://colab.research.google.com/github/JDM-ULL-93/Practica_TID/blob/master/Clustering_Jerarquico.ipynb)\n",
        "\n",
        "### 8 - [Mapa autoorganizable(SOM)](https://colab.research.google.com/github/JDM-ULL-93/Practica_TID/blob/master/SOM_.ipynb)\n",
        "\n"
      ]
    }
  ]
}